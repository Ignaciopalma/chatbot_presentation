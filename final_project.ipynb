{
 "cells": [
  {
   "cell_type": "code",
   "execution_count": 2,
   "metadata": {},
   "outputs": [
    {
     "name": "stderr",
     "output_type": "stream",
     "text": [
      "Using TensorFlow backend.\n"
     ]
    }
   ],
   "source": [
    "from matplotlib import pyplot\n",
    "from sklearn.utils import resample\n",
    "from sklearn.model_selection import train_test_split\n",
    "from sklearn.tree import DecisionTreeClassifier\n",
    "from sklearn.metrics import confusion_matrix, accuracy_score\n",
    "import seaborn\n",
    "import numpy as np\n",
    "import pandas as pd\n",
    "import json\n",
    "import spacy\n",
    "from collections import Counter\n",
    "from IPython.display import display, HTML\n",
    "import warnings\n",
    "import nltk\n",
    "from imblearn.over_sampling import RandomOverSampler, SMOTE\n",
    "from IPython.display import display, HTML\n",
    "from keras.layers import Input, Embedding, LSTM, Dense, Activation, SpatialDropout1D, Flatten, GlobalMaxPooling1D\n",
    "from keras.layers import Conv1D, MaxPooling1D, Embedding\n",
    "from keras.models import Model, Sequential\n",
    "from keras.preprocessing import text\n",
    "from keras.utils import np_utils, to_categorical\n",
    "from keras.preprocessing import sequence\n",
    "from keras.initializers import Constant\n",
    "import model_evaluation_utils as meu\n",
    "from sklearn.ensemble import BaggingClassifier, AdaBoostClassifier, VotingClassifier, RandomForestClassifier\n",
    "from sklearn.linear_model import LogisticRegression\n",
    "from sklearn.naive_bayes import GaussianNB\n",
    "import random\n",
    "from sklearn.model_selection import learning_curve\n",
    "from matplotlib import pyplot as plt"
   ]
  },
  {
   "cell_type": "code",
   "execution_count": 4,
   "metadata": {},
   "outputs": [],
   "source": [
    "nlp = spacy.load('en_core_web_lg')"
   ]
  },
  {
   "cell_type": "markdown",
   "metadata": {},
   "source": [
    "## Settings"
   ]
  },
  {
   "cell_type": "code",
   "execution_count": 5,
   "metadata": {},
   "outputs": [
    {
     "data": {
      "text/html": [
       "<style>\n",
       "\n",
       "#notebook-container {\n",
       "    width: 1200px;\n",
       "}\n",
       "\n",
       ".CodeMirror-line {\n",
       "    font-size: 14px !important;\n",
       "}\n",
       "\n",
       ".output {\n",
       "    flex-direction: row;\n",
       "    flex-wrap: wrap;\n",
       "}\n",
       "\n",
       "</style>"
      ],
      "text/plain": [
       "<IPython.core.display.HTML object>"
      ]
     },
     "execution_count": 5,
     "metadata": {},
     "output_type": "execute_result"
    }
   ],
   "source": [
    "warnings.filterwarnings('ignore')\n",
    "CSS = \"\"\"\n",
    "\n",
    "#notebook-container {\n",
    "    width: 1200px;\n",
    "}\n",
    "\n",
    ".CodeMirror-line {\n",
    "    font-size: 14px !important;\n",
    "}\n",
    "\n",
    ".output {\n",
    "    flex-direction: row;\n",
    "    flex-wrap: wrap;\n",
    "}\n",
    "\n",
    "\"\"\"\n",
    "\n",
    "HTML('<style>{}</style>'.format(CSS))"
   ]
  },
  {
   "cell_type": "markdown",
   "metadata": {},
   "source": [
    "## Import Dataset"
   ]
  },
  {
   "cell_type": "code",
   "execution_count": 6,
   "metadata": {},
   "outputs": [],
   "source": [
    "raw_file = open(\"./dataset/clean-health-data.json\", \"r\")\n",
    "all_intents = json.load(raw_file)"
   ]
  },
  {
   "cell_type": "markdown",
   "metadata": {},
   "source": [
    "## Constants"
   ]
  },
  {
   "cell_type": "code",
   "execution_count": 189,
   "metadata": {},
   "outputs": [],
   "source": [
    "RESAMPLE_RATIO = 0.5"
   ]
  },
  {
   "cell_type": "markdown",
   "metadata": {},
   "source": [
    "## Helper Functions"
   ]
  },
  {
   "cell_type": "code",
   "execution_count": 21,
   "metadata": {},
   "outputs": [],
   "source": [
    "def draw_plot(class_names, number_per_intent):\n",
    "    y_pos = np.arange(len(class_names))\n",
    "\n",
    "    pyplot.barh(y_pos, number_per_intent, align='center', alpha=0.5)\n",
    "    pyplot.yticks(y_pos, class_names)\n",
    "    pyplot.xlabel('Intent.')\n",
    "    pyplot.title('Number of Obs.')\n",
    "    pyplot.rcParams[\"figure.figsize\"] = (8,10)\n",
    "\n",
    "    display(pd.DataFrame({\n",
    "        \"class\": list(class_names),\n",
    "        \"number of obs.\": number_per_intent\n",
    "    }))\n",
    "\n",
    "    pyplot.show()\n",
    "\n",
    "def plot_distribution(data):\n",
    "    class_names = list(set(sample['intent'] for sample in data))\n",
    "    \n",
    "    number_per_intent = [\n",
    "        (class_name, len([ sample for sample in data if sample['intent'] == class_name ]))\n",
    "        for class_name in class_names\n",
    "    ]\n",
    "    \n",
    "    number_per_intent.sort(key = lambda tuple : tuple[1])\n",
    "\n",
    "    sorted_class_names = [tuple[0] for tuple in number_per_intent]\n",
    "    sorted_number_per_intent = [tuple[1] for tuple in number_per_intent]\n",
    "\n",
    "    draw_plot(sorted_class_names, sorted_number_per_intent)\n",
    "    return number_per_intent\n",
    "    \n",
    "def spacy_sentence_vector_matrix(data):\n",
    "    vector_array = np.zeros((len(data), nlp.vocab.vectors_length))\n",
    "    # build word vectors from train texts\n",
    "    for index, data in enumerate(data):\n",
    "        vector_array[index,:] = nlp(data['text']).vector\n",
    "    return vector_array\n",
    "\n",
    "def spacy_batch_tensor(data):\n",
    "    print(\"execute tensors..\")\n",
    "    labels = list(set(sample['intent'] for sample in data))\n",
    "    batch_labels = []\n",
    "    batch_tensor = []\n",
    "\n",
    "    for index, sentence in enumerate(data):\n",
    "        sentence_vector = []\n",
    "        for word_index, word in enumerate(sentence['text'].split()):\n",
    "            sentence_vector.append(list(nlp(word).vector))\n",
    "        batch_tensor.append(sentence_vector)\n",
    "        batch_labels.append(labels.index(sentence['intent']))\n",
    "\n",
    "    return {\n",
    "            \"texts\": batch_tensor,\n",
    "            \"labels\": to_categorical(batch_labels)\n",
    "    }\n",
    "\n",
    "def extract_intents(data):\n",
    "    return [data_dict['intent'] for data_dict in data]\n",
    "\n",
    "def vec_for_learning(model, documents):\n",
    "    targets, regressors = zip(*[(doc.tags, model.infer_vector(doc.words, steps=20)) for doc in documents])\n",
    "    return targets, regressors\n",
    "\n",
    "def convert_hot_to_label(hot_encoded, real_labels): \n",
    "    labels = []\n",
    "    for category in hot_encoded:\n",
    "        for index, number in enumerate(category):\n",
    "            if number == 1.0: labels.append(real_labels[index])\n",
    "    return labels"
   ]
  },
  {
   "cell_type": "markdown",
   "metadata": {},
   "source": [
    "## Data Distribution"
   ]
  },
  {
   "cell_type": "code",
   "execution_count": 22,
   "metadata": {},
   "outputs": [
    {
     "data": {
      "text/html": [
       "<div>\n",
       "<style scoped>\n",
       "    .dataframe tbody tr th:only-of-type {\n",
       "        vertical-align: middle;\n",
       "    }\n",
       "\n",
       "    .dataframe tbody tr th {\n",
       "        vertical-align: top;\n",
       "    }\n",
       "\n",
       "    .dataframe thead th {\n",
       "        text-align: right;\n",
       "    }\n",
       "</style>\n",
       "<table border=\"1\" class=\"dataframe\">\n",
       "  <thead>\n",
       "    <tr style=\"text-align: right;\">\n",
       "      <th></th>\n",
       "      <th>class</th>\n",
       "      <th>number of obs.</th>\n",
       "    </tr>\n",
       "  </thead>\n",
       "  <tbody>\n",
       "    <tr>\n",
       "      <th>0</th>\n",
       "      <td>Open wound</td>\n",
       "      <td>208</td>\n",
       "    </tr>\n",
       "    <tr>\n",
       "      <th>1</th>\n",
       "      <td>Foot ache</td>\n",
       "      <td>223</td>\n",
       "    </tr>\n",
       "    <tr>\n",
       "      <th>2</th>\n",
       "      <td>Injury from sports</td>\n",
       "      <td>230</td>\n",
       "    </tr>\n",
       "    <tr>\n",
       "      <th>3</th>\n",
       "      <td>Emotional pain</td>\n",
       "      <td>231</td>\n",
       "    </tr>\n",
       "    <tr>\n",
       "      <th>4</th>\n",
       "      <td>Hard to breath</td>\n",
       "      <td>233</td>\n",
       "    </tr>\n",
       "    <tr>\n",
       "      <th>5</th>\n",
       "      <td>Body feels weak</td>\n",
       "      <td>241</td>\n",
       "    </tr>\n",
       "    <tr>\n",
       "      <th>6</th>\n",
       "      <td>Blurry vision</td>\n",
       "      <td>246</td>\n",
       "    </tr>\n",
       "    <tr>\n",
       "      <th>7</th>\n",
       "      <td>Internal pain</td>\n",
       "      <td>248</td>\n",
       "    </tr>\n",
       "    <tr>\n",
       "      <th>8</th>\n",
       "      <td>Neck pain</td>\n",
       "      <td>251</td>\n",
       "    </tr>\n",
       "    <tr>\n",
       "      <th>9</th>\n",
       "      <td>Back pain</td>\n",
       "      <td>259</td>\n",
       "    </tr>\n",
       "    <tr>\n",
       "      <th>10</th>\n",
       "      <td>Stomach ache</td>\n",
       "      <td>261</td>\n",
       "    </tr>\n",
       "    <tr>\n",
       "      <th>11</th>\n",
       "      <td>Skin issue</td>\n",
       "      <td>262</td>\n",
       "    </tr>\n",
       "    <tr>\n",
       "      <th>12</th>\n",
       "      <td>Feeling cold</td>\n",
       "      <td>263</td>\n",
       "    </tr>\n",
       "    <tr>\n",
       "      <th>13</th>\n",
       "      <td>Head ache</td>\n",
       "      <td>263</td>\n",
       "    </tr>\n",
       "    <tr>\n",
       "      <th>14</th>\n",
       "      <td>Hair falling out</td>\n",
       "      <td>264</td>\n",
       "    </tr>\n",
       "    <tr>\n",
       "      <th>15</th>\n",
       "      <td>Ear ache</td>\n",
       "      <td>270</td>\n",
       "    </tr>\n",
       "    <tr>\n",
       "      <th>16</th>\n",
       "      <td>Heart hurts</td>\n",
       "      <td>273</td>\n",
       "    </tr>\n",
       "    <tr>\n",
       "      <th>17</th>\n",
       "      <td>Muscle pain</td>\n",
       "      <td>282</td>\n",
       "    </tr>\n",
       "    <tr>\n",
       "      <th>18</th>\n",
       "      <td>Feeling dizzy</td>\n",
       "      <td>283</td>\n",
       "    </tr>\n",
       "    <tr>\n",
       "      <th>19</th>\n",
       "      <td>Cough</td>\n",
       "      <td>293</td>\n",
       "    </tr>\n",
       "    <tr>\n",
       "      <th>20</th>\n",
       "      <td>Knee pain</td>\n",
       "      <td>305</td>\n",
       "    </tr>\n",
       "    <tr>\n",
       "      <th>21</th>\n",
       "      <td>Infected wound</td>\n",
       "      <td>306</td>\n",
       "    </tr>\n",
       "    <tr>\n",
       "      <th>22</th>\n",
       "      <td>Joint pain</td>\n",
       "      <td>318</td>\n",
       "    </tr>\n",
       "    <tr>\n",
       "      <th>23</th>\n",
       "      <td>Shoulder pain</td>\n",
       "      <td>320</td>\n",
       "    </tr>\n",
       "    <tr>\n",
       "      <th>24</th>\n",
       "      <td>Acne</td>\n",
       "      <td>328</td>\n",
       "    </tr>\n",
       "  </tbody>\n",
       "</table>\n",
       "</div>"
      ],
      "text/plain": [
       "                 class  number of obs.\n",
       "0           Open wound             208\n",
       "1            Foot ache             223\n",
       "2   Injury from sports             230\n",
       "3       Emotional pain             231\n",
       "4       Hard to breath             233\n",
       "5      Body feels weak             241\n",
       "6        Blurry vision             246\n",
       "7        Internal pain             248\n",
       "8            Neck pain             251\n",
       "9            Back pain             259\n",
       "10        Stomach ache             261\n",
       "11          Skin issue             262\n",
       "12        Feeling cold             263\n",
       "13           Head ache             263\n",
       "14    Hair falling out             264\n",
       "15            Ear ache             270\n",
       "16         Heart hurts             273\n",
       "17         Muscle pain             282\n",
       "18       Feeling dizzy             283\n",
       "19               Cough             293\n",
       "20           Knee pain             305\n",
       "21      Infected wound             306\n",
       "22          Joint pain             318\n",
       "23       Shoulder pain             320\n",
       "24                Acne             328"
      ]
     },
     "metadata": {},
     "output_type": "display_data"
    },
    {
     "data": {
      "image/png": "[encoded data removed]",
      "text/plain": [
       "<matplotlib.figure.Figure at 0x15a2b7400>"
      ]
     },
     "metadata": {
      "needs_background": "light"
     },
     "output_type": "display_data"
    }
   ],
   "source": [
    "number_per_intent = plot_distribution(all_intents)"
   ]
  },
  {
   "cell_type": "markdown",
   "metadata": {},
   "source": [
    "### Dataset length"
   ]
  },
  {
   "cell_type": "code",
   "execution_count": 11,
   "metadata": {},
   "outputs": [
    {
     "data": {
      "text/plain": [
       "6661"
      ]
     },
     "execution_count": 11,
     "metadata": {},
     "output_type": "execute_result"
    }
   ],
   "source": [
    "len(all_intents)"
   ]
  },
  {
   "cell_type": "markdown",
   "metadata": {},
   "source": [
    "### Average Observations"
   ]
  },
  {
   "cell_type": "code",
   "execution_count": 30,
   "metadata": {},
   "outputs": [
    {
     "data": {
      "text/plain": [
       "266.44"
      ]
     },
     "execution_count": 30,
     "metadata": {},
     "output_type": "execute_result"
    }
   ],
   "source": [
    "## TODO\n",
    "## STANDARD DEVIATION\n",
    "## INCORPORATE GREETINGS !!\n",
    "total_classes = len(number_per_intent)\n",
    "average_observations = len(all_intents) / total_classes\n",
    "average_observations"
   ]
  },
  {
   "cell_type": "markdown",
   "metadata": {},
   "source": [
    "## Data Preparation"
   ]
  },
  {
   "cell_type": "markdown",
   "metadata": {},
   "source": [
    "### Under Sampling\n",
    "\n",
    "All categories above the mean will be randomly undersampled to this number."
   ]
  },
  {
   "cell_type": "code",
   "execution_count": 46,
   "metadata": {},
   "outputs": [],
   "source": [
    "def reduce_obs(avg, total):\n",
    "    return total - round((total - avg)  * 0.5)\n",
    "\n",
    "new_desired_obs = {\n",
    "    class_name: reduce_obs(average_observations, total_obs) if total_obs > average_observations else None\n",
    "    for (class_name, total_obs) in number_per_intent\n",
    "}"
   ]
  },
  {
   "cell_type": "code",
   "execution_count": 140,
   "metadata": {},
   "outputs": [],
   "source": [
    "filtered_desired_obs = { key: value for key, value in new_desired_obs.items() if value }\n",
    "filtered_undesired_obs = { key: value for key, value in new_desired_obs.items() if value is None }"
   ]
  },
  {
   "cell_type": "code",
   "execution_count": 66,
   "metadata": {},
   "outputs": [],
   "source": [
    "def filter_reduce_intent(data, intent, desired):\n",
    "    intent_obs = [sample for sample in data if sample['intent'] == intent]\n",
    "    return random.sample(intent_obs, desired)\n"
   ]
  },
  {
   "cell_type": "code",
   "execution_count": 136,
   "metadata": {},
   "outputs": [],
   "source": [
    "reduced_intents = np.concatenate([\n",
    "    filter_reduce_intent(all_intents, intent, desired_value)\n",
    "    for intent, desired_value in filtered_desired_obs.items()\n",
    "]).tolist()"
   ]
  },
  {
   "cell_type": "code",
   "execution_count": 160,
   "metadata": {},
   "outputs": [],
   "source": [
    "lower_than_average = [sample for sample in all_intents if sample['intent'] in filtered_undesired_obs.keys()]"
   ]
  },
  {
   "cell_type": "code",
   "execution_count": 161,
   "metadata": {},
   "outputs": [],
   "source": [
    "lowered_all_intents = reduced_intents + lower_than_average"
   ]
  },
  {
   "cell_type": "code",
   "execution_count": 164,
   "metadata": {},
   "outputs": [
    {
     "data": {
      "text/html": [
       "<div>\n",
       "<style scoped>\n",
       "    .dataframe tbody tr th:only-of-type {\n",
       "        vertical-align: middle;\n",
       "    }\n",
       "\n",
       "    .dataframe tbody tr th {\n",
       "        vertical-align: top;\n",
       "    }\n",
       "\n",
       "    .dataframe thead th {\n",
       "        text-align: right;\n",
       "    }\n",
       "</style>\n",
       "<table border=\"1\" class=\"dataframe\">\n",
       "  <thead>\n",
       "    <tr style=\"text-align: right;\">\n",
       "      <th></th>\n",
       "      <th>class</th>\n",
       "      <th>number of obs.</th>\n",
       "    </tr>\n",
       "  </thead>\n",
       "  <tbody>\n",
       "    <tr>\n",
       "      <th>0</th>\n",
       "      <td>Open wound</td>\n",
       "      <td>208</td>\n",
       "    </tr>\n",
       "    <tr>\n",
       "      <th>1</th>\n",
       "      <td>Foot ache</td>\n",
       "      <td>223</td>\n",
       "    </tr>\n",
       "    <tr>\n",
       "      <th>2</th>\n",
       "      <td>Injury from sports</td>\n",
       "      <td>230</td>\n",
       "    </tr>\n",
       "    <tr>\n",
       "      <th>3</th>\n",
       "      <td>Emotional pain</td>\n",
       "      <td>231</td>\n",
       "    </tr>\n",
       "    <tr>\n",
       "      <th>4</th>\n",
       "      <td>Hard to breath</td>\n",
       "      <td>233</td>\n",
       "    </tr>\n",
       "    <tr>\n",
       "      <th>5</th>\n",
       "      <td>Body feels weak</td>\n",
       "      <td>241</td>\n",
       "    </tr>\n",
       "    <tr>\n",
       "      <th>6</th>\n",
       "      <td>Blurry vision</td>\n",
       "      <td>246</td>\n",
       "    </tr>\n",
       "    <tr>\n",
       "      <th>7</th>\n",
       "      <td>Internal pain</td>\n",
       "      <td>248</td>\n",
       "    </tr>\n",
       "    <tr>\n",
       "      <th>8</th>\n",
       "      <td>Neck pain</td>\n",
       "      <td>251</td>\n",
       "    </tr>\n",
       "    <tr>\n",
       "      <th>9</th>\n",
       "      <td>Back pain</td>\n",
       "      <td>259</td>\n",
       "    </tr>\n",
       "    <tr>\n",
       "      <th>10</th>\n",
       "      <td>Stomach ache</td>\n",
       "      <td>261</td>\n",
       "    </tr>\n",
       "    <tr>\n",
       "      <th>11</th>\n",
       "      <td>Skin issue</td>\n",
       "      <td>262</td>\n",
       "    </tr>\n",
       "    <tr>\n",
       "      <th>12</th>\n",
       "      <td>Feeling cold</td>\n",
       "      <td>263</td>\n",
       "    </tr>\n",
       "    <tr>\n",
       "      <th>13</th>\n",
       "      <td>Head ache</td>\n",
       "      <td>263</td>\n",
       "    </tr>\n",
       "    <tr>\n",
       "      <th>14</th>\n",
       "      <td>Hair falling out</td>\n",
       "      <td>264</td>\n",
       "    </tr>\n",
       "    <tr>\n",
       "      <th>15</th>\n",
       "      <td>Ear ache</td>\n",
       "      <td>268</td>\n",
       "    </tr>\n",
       "    <tr>\n",
       "      <th>16</th>\n",
       "      <td>Heart hurts</td>\n",
       "      <td>270</td>\n",
       "    </tr>\n",
       "    <tr>\n",
       "      <th>17</th>\n",
       "      <td>Muscle pain</td>\n",
       "      <td>274</td>\n",
       "    </tr>\n",
       "    <tr>\n",
       "      <th>18</th>\n",
       "      <td>Feeling dizzy</td>\n",
       "      <td>275</td>\n",
       "    </tr>\n",
       "    <tr>\n",
       "      <th>19</th>\n",
       "      <td>Cough</td>\n",
       "      <td>280</td>\n",
       "    </tr>\n",
       "    <tr>\n",
       "      <th>20</th>\n",
       "      <td>Infected wound</td>\n",
       "      <td>286</td>\n",
       "    </tr>\n",
       "    <tr>\n",
       "      <th>21</th>\n",
       "      <td>Knee pain</td>\n",
       "      <td>286</td>\n",
       "    </tr>\n",
       "    <tr>\n",
       "      <th>22</th>\n",
       "      <td>Joint pain</td>\n",
       "      <td>292</td>\n",
       "    </tr>\n",
       "    <tr>\n",
       "      <th>23</th>\n",
       "      <td>Shoulder pain</td>\n",
       "      <td>293</td>\n",
       "    </tr>\n",
       "    <tr>\n",
       "      <th>24</th>\n",
       "      <td>Acne</td>\n",
       "      <td>297</td>\n",
       "    </tr>\n",
       "  </tbody>\n",
       "</table>\n",
       "</div>"
      ],
      "text/plain": [
       "                 class  number of obs.\n",
       "0           Open wound             208\n",
       "1            Foot ache             223\n",
       "2   Injury from sports             230\n",
       "3       Emotional pain             231\n",
       "4       Hard to breath             233\n",
       "5      Body feels weak             241\n",
       "6        Blurry vision             246\n",
       "7        Internal pain             248\n",
       "8            Neck pain             251\n",
       "9            Back pain             259\n",
       "10        Stomach ache             261\n",
       "11          Skin issue             262\n",
       "12        Feeling cold             263\n",
       "13           Head ache             263\n",
       "14    Hair falling out             264\n",
       "15            Ear ache             268\n",
       "16         Heart hurts             270\n",
       "17         Muscle pain             274\n",
       "18       Feeling dizzy             275\n",
       "19               Cough             280\n",
       "20      Infected wound             286\n",
       "21           Knee pain             286\n",
       "22          Joint pain             292\n",
       "23       Shoulder pain             293\n",
       "24                Acne             297"
      ]
     },
     "metadata": {},
     "output_type": "display_data"
    },
    {
     "data": {
      "image/png": "[encoded data removed]",
      "text/plain": [
       "<matplotlib.figure.Figure at 0x166f5f6d8>"
      ]
     },
     "metadata": {
      "needs_background": "light"
     },
     "output_type": "display_data"
    },
    {
     "data": {
      "text/plain": [
       "[('Open wound', 208),\n",
       " ('Foot ache', 223),\n",
       " ('Injury from sports', 230),\n",
       " ('Emotional pain', 231),\n",
       " ('Hard to breath', 233),\n",
       " ('Body feels weak', 241),\n",
       " ('Blurry vision', 246),\n",
       " ('Internal pain', 248),\n",
       " ('Neck pain', 251),\n",
       " ('Back pain', 259),\n",
       " ('Stomach ache', 261),\n",
       " ('Skin issue', 262),\n",
       " ('Feeling cold', 263),\n",
       " ('Head ache', 263),\n",
       " ('Hair falling out', 264),\n",
       " ('Ear ache', 268),\n",
       " ('Heart hurts', 270),\n",
       " ('Muscle pain', 274),\n",
       " ('Feeling dizzy', 275),\n",
       " ('Cough', 280),\n",
       " ('Infected wound', 286),\n",
       " ('Knee pain', 286),\n",
       " ('Joint pain', 292),\n",
       " ('Shoulder pain', 293),\n",
       " ('Acne', 297)]"
      ]
     },
     "execution_count": 164,
     "metadata": {},
     "output_type": "execute_result"
    }
   ],
   "source": [
    "plot_distribution(lowered_all_intents)"
   ]
  },
  {
   "cell_type": "code",
   "execution_count": null,
   "metadata": {},
   "outputs": [],
   "source": []
  },
  {
   "cell_type": "code",
   "execution_count": null,
   "metadata": {},
   "outputs": [],
   "source": []
  },
  {
   "cell_type": "markdown",
   "metadata": {},
   "source": [
    "### Oversampling"
   ]
  },
  {
   "cell_type": "code",
   "execution_count": 165,
   "metadata": {},
   "outputs": [],
   "source": [
    "vecs_spacy_pre_smote, labels_spacy_pre_smote = (\n",
    "    spacy_sentence_vector_matrix(lowered_all_intents),\n",
    "    extract_intents(lowered_all_intents) \n",
    ")"
   ]
  },
  {
   "cell_type": "markdown",
   "metadata": {},
   "source": [
    "```\n",
    "# (\n",
    "# \t[\n",
    "# \t   [0.12432, 1.2345, -1.2345 ... x 300], --> \"I have a muscle pain in my left leg\"\n",
    "# \t   [0.65433, 1.9876, -1.2345 ... x 300], --> \"I lose a lot of my hair\"\n",
    "# \t   [0.14554, 1.8263, -0.8765 ... x 300]  --> \"I feel a pain in my back\"\n",
    "# \t],\n",
    "# \t[\n",
    "# \t\t\"Foot ache\",\n",
    "# \t\t\"Hair loss\",\n",
    "# \t\t\"Back pain\"\n",
    "# \t]\n",
    "# )\n",
    "```\n"
   ]
  },
  {
   "cell_type": "code",
   "execution_count": 177,
   "metadata": {},
   "outputs": [],
   "source": [
    "def increase_obs_amount(data, intent, avg):\n",
    "    data_by_intent = [sample for sample in data if sample['intent'] == intent]\n",
    "    data_length = len(data_by_intent)\n",
    "    return data_length + round((avg - data_length)  * 0.5)\n",
    "\n",
    "oversample_ratio = {\n",
    "    intent: increase_obs_amount(lowered_all_intents, intent, average_observations)\n",
    "    for intent in filtered_undesired_obs\n",
    "}"
   ]
  },
  {
   "cell_type": "code",
   "execution_count": null,
   "metadata": {},
   "outputs": [],
   "source": []
  },
  {
   "cell_type": "code",
   "execution_count": null,
   "metadata": {},
   "outputs": [],
   "source": []
  },
  {
   "cell_type": "code",
   "execution_count": 179,
   "metadata": {},
   "outputs": [],
   "source": [
    "smote_spacy = SMOTE(random_state=42, sampling_strategy=oversample_ratio)\n",
    "vecs_spacy_smote, labels_spacy_smote = smote_spacy.fit_resample(vecs_spacy_pre_smote, labels_spacy_pre_smote)"
   ]
  },
  {
   "cell_type": "code",
   "execution_count": 188,
   "metadata": {},
   "outputs": [
    {
     "data": {
      "text/html": [
       "<div>\n",
       "<style scoped>\n",
       "    .dataframe tbody tr th:only-of-type {\n",
       "        vertical-align: middle;\n",
       "    }\n",
       "\n",
       "    .dataframe tbody tr th {\n",
       "        vertical-align: top;\n",
       "    }\n",
       "\n",
       "    .dataframe thead th {\n",
       "        text-align: right;\n",
       "    }\n",
       "</style>\n",
       "<table border=\"1\" class=\"dataframe\">\n",
       "  <thead>\n",
       "    <tr style=\"text-align: right;\">\n",
       "      <th></th>\n",
       "      <th>class</th>\n",
       "      <th>number of obs.</th>\n",
       "    </tr>\n",
       "  </thead>\n",
       "  <tbody>\n",
       "    <tr>\n",
       "      <th>0</th>\n",
       "      <td>Open wound</td>\n",
       "      <td>237</td>\n",
       "    </tr>\n",
       "    <tr>\n",
       "      <th>1</th>\n",
       "      <td>Foot ache</td>\n",
       "      <td>245</td>\n",
       "    </tr>\n",
       "    <tr>\n",
       "      <th>2</th>\n",
       "      <td>Injury from sports</td>\n",
       "      <td>248</td>\n",
       "    </tr>\n",
       "    <tr>\n",
       "      <th>3</th>\n",
       "      <td>Emotional pain</td>\n",
       "      <td>249</td>\n",
       "    </tr>\n",
       "    <tr>\n",
       "      <th>4</th>\n",
       "      <td>Hard to breath</td>\n",
       "      <td>250</td>\n",
       "    </tr>\n",
       "    <tr>\n",
       "      <th>5</th>\n",
       "      <td>Body feels weak</td>\n",
       "      <td>254</td>\n",
       "    </tr>\n",
       "    <tr>\n",
       "      <th>6</th>\n",
       "      <td>Blurry vision</td>\n",
       "      <td>256</td>\n",
       "    </tr>\n",
       "    <tr>\n",
       "      <th>7</th>\n",
       "      <td>Internal pain</td>\n",
       "      <td>257</td>\n",
       "    </tr>\n",
       "    <tr>\n",
       "      <th>8</th>\n",
       "      <td>Neck pain</td>\n",
       "      <td>259</td>\n",
       "    </tr>\n",
       "    <tr>\n",
       "      <th>9</th>\n",
       "      <td>Back pain</td>\n",
       "      <td>263</td>\n",
       "    </tr>\n",
       "    <tr>\n",
       "      <th>10</th>\n",
       "      <td>Stomach ache</td>\n",
       "      <td>264</td>\n",
       "    </tr>\n",
       "    <tr>\n",
       "      <th>11</th>\n",
       "      <td>Skin issue</td>\n",
       "      <td>264</td>\n",
       "    </tr>\n",
       "    <tr>\n",
       "      <th>12</th>\n",
       "      <td>Hair falling out</td>\n",
       "      <td>265</td>\n",
       "    </tr>\n",
       "    <tr>\n",
       "      <th>13</th>\n",
       "      <td>Feeling cold</td>\n",
       "      <td>265</td>\n",
       "    </tr>\n",
       "    <tr>\n",
       "      <th>14</th>\n",
       "      <td>Head ache</td>\n",
       "      <td>265</td>\n",
       "    </tr>\n",
       "    <tr>\n",
       "      <th>15</th>\n",
       "      <td>Ear ache</td>\n",
       "      <td>268</td>\n",
       "    </tr>\n",
       "    <tr>\n",
       "      <th>16</th>\n",
       "      <td>Heart hurts</td>\n",
       "      <td>270</td>\n",
       "    </tr>\n",
       "    <tr>\n",
       "      <th>17</th>\n",
       "      <td>Muscle pain</td>\n",
       "      <td>274</td>\n",
       "    </tr>\n",
       "    <tr>\n",
       "      <th>18</th>\n",
       "      <td>Feeling dizzy</td>\n",
       "      <td>275</td>\n",
       "    </tr>\n",
       "    <tr>\n",
       "      <th>19</th>\n",
       "      <td>Cough</td>\n",
       "      <td>280</td>\n",
       "    </tr>\n",
       "    <tr>\n",
       "      <th>20</th>\n",
       "      <td>Infected wound</td>\n",
       "      <td>286</td>\n",
       "    </tr>\n",
       "    <tr>\n",
       "      <th>21</th>\n",
       "      <td>Knee pain</td>\n",
       "      <td>286</td>\n",
       "    </tr>\n",
       "    <tr>\n",
       "      <th>22</th>\n",
       "      <td>Joint pain</td>\n",
       "      <td>292</td>\n",
       "    </tr>\n",
       "    <tr>\n",
       "      <th>23</th>\n",
       "      <td>Shoulder pain</td>\n",
       "      <td>293</td>\n",
       "    </tr>\n",
       "    <tr>\n",
       "      <th>24</th>\n",
       "      <td>Acne</td>\n",
       "      <td>297</td>\n",
       "    </tr>\n",
       "  </tbody>\n",
       "</table>\n",
       "</div>"
      ],
      "text/plain": [
       "                 class  number of obs.\n",
       "0           Open wound             237\n",
       "1            Foot ache             245\n",
       "2   Injury from sports             248\n",
       "3       Emotional pain             249\n",
       "4       Hard to breath             250\n",
       "5      Body feels weak             254\n",
       "6        Blurry vision             256\n",
       "7        Internal pain             257\n",
       "8            Neck pain             259\n",
       "9            Back pain             263\n",
       "10        Stomach ache             264\n",
       "11          Skin issue             264\n",
       "12    Hair falling out             265\n",
       "13        Feeling cold             265\n",
       "14           Head ache             265\n",
       "15            Ear ache             268\n",
       "16         Heart hurts             270\n",
       "17         Muscle pain             274\n",
       "18       Feeling dizzy             275\n",
       "19               Cough             280\n",
       "20      Infected wound             286\n",
       "21           Knee pain             286\n",
       "22          Joint pain             292\n",
       "23       Shoulder pain             293\n",
       "24                Acne             297"
      ]
     },
     "metadata": {},
     "output_type": "display_data"
    },
    {
     "data": {
      "image/png": "[encoded data removed]",
      "text/plain": [
       "<matplotlib.figure.Figure at 0x169111278>"
      ]
     },
     "metadata": {
      "needs_background": "light"
     },
     "output_type": "display_data"
    }
   ],
   "source": [
    "smote_classes_names = list(set(labels_spacy_smote))\n",
    "\n",
    "y_pos = np.arange(len(smote_classes_names))\n",
    "smote_number_per_intent = [ \n",
    "    (unique_label, len([name for name in labels_spacy_smote if name == unique_label]))\n",
    "    for unique_label in smote_classes_names\n",
    "]\n",
    "\n",
    "smote_number_per_intent.sort(key = lambda tuple : tuple[1])\n",
    "\n",
    "sorted_smote_class_names = [tuple[0] for tuple in smote_number_per_intent]\n",
    "sorted_smote_number_per_intent = [tuple[1] for tuple in smote_number_per_intent]\n",
    "\n",
    "draw_plot(sorted_smote_class_names, sorted_smote_number_per_intent)\n"
   ]
  },
  {
   "cell_type": "code",
   "execution_count": 187,
   "metadata": {},
   "outputs": [
    {
     "ename": "TypeError",
     "evalue": "'int' object is not subscriptable",
     "output_type": "error",
     "traceback": [
      "\u001b[0;31m---------------------------------------------------------------------------\u001b[0m",
      "\u001b[0;31mTypeError\u001b[0m                                 Traceback (most recent call last)",
      "\u001b[0;32m<ipython-input-187-dc167b797711>\u001b[0m in \u001b[0;36m<module>\u001b[0;34m\u001b[0m\n\u001b[0;32m----> 1\u001b[0;31m \u001b[0msmote_number_per_intent\u001b[0m\u001b[0;34m.\u001b[0m\u001b[0msort\u001b[0m\u001b[0;34m(\u001b[0m\u001b[0mkey\u001b[0m \u001b[0;34m=\u001b[0m \u001b[0;32mlambda\u001b[0m \u001b[0mtuple\u001b[0m \u001b[0;34m:\u001b[0m \u001b[0mtuple\u001b[0m\u001b[0;34m[\u001b[0m\u001b[0;36m1\u001b[0m\u001b[0;34m]\u001b[0m\u001b[0;34m)\u001b[0m\u001b[0;34m\u001b[0m\u001b[0;34m\u001b[0m\u001b[0m\n\u001b[0m",
      "\u001b[0;32m<ipython-input-187-dc167b797711>\u001b[0m in \u001b[0;36m<lambda>\u001b[0;34m(tuple)\u001b[0m\n\u001b[0;32m----> 1\u001b[0;31m \u001b[0msmote_number_per_intent\u001b[0m\u001b[0;34m.\u001b[0m\u001b[0msort\u001b[0m\u001b[0;34m(\u001b[0m\u001b[0mkey\u001b[0m \u001b[0;34m=\u001b[0m \u001b[0;32mlambda\u001b[0m \u001b[0mtuple\u001b[0m \u001b[0;34m:\u001b[0m \u001b[0mtuple\u001b[0m\u001b[0;34m[\u001b[0m\u001b[0;36m1\u001b[0m\u001b[0;34m]\u001b[0m\u001b[0;34m)\u001b[0m\u001b[0;34m\u001b[0m\u001b[0;34m\u001b[0m\u001b[0m\n\u001b[0m",
      "\u001b[0;31mTypeError\u001b[0m: 'int' object is not subscriptable"
     ]
    }
   ],
   "source": [
    "smote_number_per_intent.sort(key = lambda tuple : tuple[1])"
   ]
  },
  {
   "cell_type": "code",
   "execution_count": null,
   "metadata": {},
   "outputs": [],
   "source": []
  }
 ],
 "metadata": {
  "kernelspec": {
   "display_name": "Python 3",
   "language": "python",
   "name": "python3"
  },
  "language_info": {
   "codemirror_mode": {
    "name": "ipython",
    "version": 3
   },
   "file_extension": ".py",
   "mimetype": "text/x-python",
   "name": "python",
   "nbconvert_exporter": "python",
   "pygments_lexer": "ipython3",
   "version": "3.7.2"
  }
 },
 "nbformat": 4,
 "nbformat_minor": 2
}
